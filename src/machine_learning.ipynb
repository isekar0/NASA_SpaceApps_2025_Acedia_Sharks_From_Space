{
 "cells": [
  {
   "cell_type": "code",
   "execution_count": null,
   "id": "6b94d123",
   "metadata": {},
   "outputs": [],
   "source": [
    "import os\n",
    "from pathlib import Path\n",
    "\n",
    "import xarray as xr\n",
    "import pandas as pd\n",
    "import numpy as np\n",
    "\n",
    "from xgboost import XGBRegressor\n",
    "from sklearn.preprocessing import StandardScaler, MinMaxScaler\n",
    "from sklearn.model_selection import train_test_split, GridSearchCV\n",
    "from sklearn.metrics import mean_squared_error, r2_score"
   ]
  },
  {
   "cell_type": "code",
   "execution_count": null,
   "id": "8f6975b9",
   "metadata": {},
   "outputs": [],
   "source": [
    "DIR_DATA = Path(os.path.dirname(os.path.abspath(''))).resolve() / \"data\"\n",
    "DIR_SOURCE_O = DIR_DATA / \"final\"\n",
    "DIR_SOURCE_P = DIR_DATA / \"processed\""
   ]
  },
  {
   "cell_type": "code",
   "execution_count": null,
   "id": "673fa862",
   "metadata": {},
   "outputs": [],
   "source": [
    "SEED = 0\n",
    "LR = 1e-3\n",
    "L2 = 1e-3\n",
    "BATCH_SIZE = 4\n",
    "EPOCHS = 20\n",
    "CV = 5"
   ]
  },
  {
   "cell_type": "code",
   "execution_count": null,
   "id": "b7e26364",
   "metadata": {},
   "outputs": [],
   "source": [
    "X = xr.open_dataset(DIR_SOURCE_O / \"oceanographic_data.nc\")\n",
    "y = pd.read_hdf(DIR_SOURCE_P / \"TOPP\" / \"SHARKS.h5\")"
   ]
  },
  {
   "cell_type": "code",
   "execution_count": null,
   "id": "10e57687",
   "metadata": {},
   "outputs": [],
   "source": [
    "X_train, X_test, y_train, y_test = train_test_split(X, y, test_size=0.3, random_state=SEED, shuffle=True)"
   ]
  },
  {
   "cell_type": "code",
   "execution_count": null,
   "id": "e361479a",
   "metadata": {},
   "outputs": [],
   "source": [
    "parameter_grid_xgb = {\n",
    "        'n_estimators': [100, 500, 750],\n",
    "    'max_depth': [3, 5, 10],\n",
    "    'learning_rate': [LR, LR*0.1, LR*10],\n",
    "    'min_child_weight': [1, 2, 3],\n",
    "    \"random_state\": [SEED]\n",
    "}\n",
    "\n",
    "xgb = XGBRegressor()\n",
    "\n",
    "grid_search_xgb = GridSearchCV(xgb, parameter_grid_xgb, cv=CV, scoring=\"rmse\", verbose=3)\n",
    "grid_search_xgb.fit(X_train, y_train)\n",
    "\n",
    "print(\"Gradient Boosting Regressor\")\n",
    "print(\"Best hyperparameters: \", grid_search_xgb.best_params_)\n",
    "print(\"Best accuracy: \", grid_search_xgb.best_score_)\n",
    "\n",
    "r2_xgb = grid_search_xgb.score(X_test, y_test)\n",
    "print('RMSE score: {:.2f}'.format(r2_xgb))\n",
    "\n",
    "xgb = XGBRegressor(**grid_search_xgb.best_params_)\n",
    "xgb.fit(X_train, y_train)"
   ]
  },
  {
   "cell_type": "code",
   "execution_count": null,
   "id": "a7ddf4e7",
   "metadata": {},
   "outputs": [],
   "source": []
  }
 ],
 "metadata": {
  "language_info": {
   "name": "python"
  }
 },
 "nbformat": 4,
 "nbformat_minor": 5
}
