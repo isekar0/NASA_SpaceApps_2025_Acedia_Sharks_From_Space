{
 "cells": [
  {
   "cell_type": "code",
   "execution_count": 1,
   "id": "f7467877",
   "metadata": {},
   "outputs": [],
   "source": [
    "import os\n",
    "from pathlib import Path\n",
    "\n",
    "import xarray as xr\n",
    "import numpy as np"
   ]
  },
  {
   "cell_type": "code",
   "execution_count": 2,
   "id": "9b8b11ff",
   "metadata": {},
   "outputs": [
    {
     "name": "stdout",
     "output_type": "stream",
     "text": [
      "['SEA_SURFACE_HEIGHT_ALT_GRIDS_L4_2SATS_5DAY_6THDEG_V_JPL2205', 'ECCO_L4_DENS_STRAT_PRESS_05DEG_DAILY_V4R4', 'ECCO_L4_GEOMETRY_05DEG_V4R4', 'ECCO_L4_MIXED_LAYER_DEPTH_05DEG_DAILY_V4R4', 'ECCO_L4_SSH_05DEG_DAILY_V4R4', 'AQUA_MODIS_L3M_DAILY_4KM_POC', 'AQUA_MODIS_L3M_DAILY_4KM_CHLCONC', 'TOPP', 'OSCAR_L4_OC_FINAL_V2.0', 'AQUA_MODIS_L3M_DAILY_4KM_PIC', 'ECCO_L4_FRESH_FLUX_05DEG_DAILY_V4R4', 'OSTIA-UKMO-L4-GLOB-REP-v2.0']\n"
     ]
    }
   ],
   "source": [
    "DIR_DATA = Path(os.path.dirname(os.path.abspath(''))).resolve() / \"data\"\n",
    "DIR_SOURCE = DIR_DATA / \"processed\"\n",
    "DIR_OUTPUT = DIR_DATA / \"clean\"\n",
    "DIR_OUTPUT.mkdir(parents=True, exist_ok=True)\n",
    "print(os.listdir(DIR_SOURCE))"
   ]
  },
  {
   "cell_type": "code",
   "execution_count": 3,
   "id": "bcb213a9",
   "metadata": {},
   "outputs": [],
   "source": [
    "source_files = {\n",
    "    \"chlorophyll\": DIR_SOURCE / \"AQUA_MODIS_L3M_DAILY_4KM_CHLCONC\" / \"CHLOROPHYLL.zarr\",\n",
    "    \"pic\": DIR_SOURCE / \"AQUA_MODIS_L3M_DAILY_4KM_PIC\" / \"PIC.zarr\",\n",
    "    \"poc\":  DIR_SOURCE / \"AQUA_MODIS_L3M_DAILY_4KM_POC\" / \"POC.zarr\",\n",
    "    \"density\":  DIR_SOURCE / \"ECCO_L4_DENS_STRAT_PRESS_05DEG_DAILY_V4R4\" / \"DENSITY.zarr\",\n",
    "    \"freshflux\":  DIR_SOURCE / \"ECCO_L4_FRESH_FLUX_05DEG_DAILY_V4R4\" / \"FRESHWATER_FLUX.zarr\",\n",
    "    \"mixedlayer\":  DIR_SOURCE / \"ECCO_L4_MIXED_LAYER_DEPTH_05DEG_DAILY_V4R4\" / \"MIXED_LAYER_DEPTH.zarr\",\n",
    "    \"ssh\":  DIR_SOURCE / \"ECCO_L4_SSH_05DEG_DAILY_V4R4\" / \"SSH_DAILY.zarr\",\n",
    "    \"currents\":  DIR_SOURCE / \"OSCAR_L4_OC_FINAL_V2.0\" / \"CURRENTS_EDDIES.zarr\",\n",
    "    \"sst\":  DIR_SOURCE / \"OSTIA-UKMO-L4-GLOB-REP-v2.0\" / \"SST.zarr\",\n",
    "}"
   ]
  },
  {
   "cell_type": "code",
   "execution_count": 4,
   "id": "4daf28c2",
   "metadata": {},
   "outputs": [
    {
     "name": "stdout",
     "output_type": "stream",
     "text": [
      "Processing and rewriting chlorophyll...\n"
     ]
    },
    {
     "name": "stderr",
     "output_type": "stream",
     "text": [
      "/home/isekar/.conda/envs/SpaceApps2025/lib/python3.13/site-packages/zarr/api/asynchronous.py:244: ZarrUserWarning: Consolidated metadata is currently not part in the Zarr format 3 specification. It may not be supported by other zarr implementations and may change in the future.\n",
      "  warnings.warn(\n"
     ]
    },
    {
     "name": "stdout",
     "output_type": "stream",
     "text": [
      "Processing and rewriting pic...\n"
     ]
    },
    {
     "name": "stderr",
     "output_type": "stream",
     "text": [
      "/home/isekar/.conda/envs/SpaceApps2025/lib/python3.13/site-packages/zarr/api/asynchronous.py:244: ZarrUserWarning: Consolidated metadata is currently not part in the Zarr format 3 specification. It may not be supported by other zarr implementations and may change in the future.\n",
      "  warnings.warn(\n"
     ]
    },
    {
     "name": "stdout",
     "output_type": "stream",
     "text": [
      "Processing and rewriting poc...\n"
     ]
    },
    {
     "name": "stderr",
     "output_type": "stream",
     "text": [
      "/home/isekar/.conda/envs/SpaceApps2025/lib/python3.13/site-packages/zarr/api/asynchronous.py:244: ZarrUserWarning: Consolidated metadata is currently not part in the Zarr format 3 specification. It may not be supported by other zarr implementations and may change in the future.\n",
      "  warnings.warn(\n"
     ]
    },
    {
     "name": "stdout",
     "output_type": "stream",
     "text": [
      "Processing and rewriting density...\n"
     ]
    },
    {
     "name": "stderr",
     "output_type": "stream",
     "text": [
      "/home/isekar/.conda/envs/SpaceApps2025/lib/python3.13/site-packages/zarr/api/asynchronous.py:244: ZarrUserWarning: Consolidated metadata is currently not part in the Zarr format 3 specification. It may not be supported by other zarr implementations and may change in the future.\n",
      "  warnings.warn(\n"
     ]
    },
    {
     "name": "stdout",
     "output_type": "stream",
     "text": [
      "Processing and rewriting freshflux...\n"
     ]
    },
    {
     "name": "stderr",
     "output_type": "stream",
     "text": [
      "/home/isekar/.conda/envs/SpaceApps2025/lib/python3.13/site-packages/zarr/api/asynchronous.py:244: ZarrUserWarning: Consolidated metadata is currently not part in the Zarr format 3 specification. It may not be supported by other zarr implementations and may change in the future.\n",
      "  warnings.warn(\n"
     ]
    },
    {
     "name": "stdout",
     "output_type": "stream",
     "text": [
      "Processing and rewriting mixedlayer...\n"
     ]
    },
    {
     "name": "stderr",
     "output_type": "stream",
     "text": [
      "/home/isekar/.conda/envs/SpaceApps2025/lib/python3.13/site-packages/zarr/api/asynchronous.py:244: ZarrUserWarning: Consolidated metadata is currently not part in the Zarr format 3 specification. It may not be supported by other zarr implementations and may change in the future.\n",
      "  warnings.warn(\n"
     ]
    },
    {
     "name": "stdout",
     "output_type": "stream",
     "text": [
      "Processing and rewriting ssh...\n"
     ]
    },
    {
     "name": "stderr",
     "output_type": "stream",
     "text": [
      "/home/isekar/.conda/envs/SpaceApps2025/lib/python3.13/site-packages/zarr/api/asynchronous.py:244: ZarrUserWarning: Consolidated metadata is currently not part in the Zarr format 3 specification. It may not be supported by other zarr implementations and may change in the future.\n",
      "  warnings.warn(\n"
     ]
    },
    {
     "name": "stdout",
     "output_type": "stream",
     "text": [
      "Processing and rewriting currents...\n"
     ]
    },
    {
     "name": "stderr",
     "output_type": "stream",
     "text": [
      "/tmp/ipykernel_162450/2419787699.py:13: FutureWarning: In a future version of xarray to_datetimeindex will default to returning a 'us'-resolution DatetimeIndex instead of a 'ns'-resolution DatetimeIndex. This warning can be silenced by explicitly passing the `time_unit` keyword argument.\n",
      "  datetime_index = ds.indexes['time'].to_datetimeindex(unsafe=True)\n",
      "/home/isekar/.conda/envs/SpaceApps2025/lib/python3.13/site-packages/zarr/api/asynchronous.py:244: ZarrUserWarning: Consolidated metadata is currently not part in the Zarr format 3 specification. It may not be supported by other zarr implementations and may change in the future.\n",
      "  warnings.warn(\n"
     ]
    },
    {
     "name": "stdout",
     "output_type": "stream",
     "text": [
      "Processing and rewriting sst...\n"
     ]
    },
    {
     "name": "stderr",
     "output_type": "stream",
     "text": [
      "/home/isekar/.conda/envs/SpaceApps2025/lib/python3.13/site-packages/zarr/api/asynchronous.py:244: ZarrUserWarning: Consolidated metadata is currently not part in the Zarr format 3 specification. It may not be supported by other zarr implementations and may change in the future.\n",
      "  warnings.warn(\n"
     ]
    }
   ],
   "source": [
    "IDEAL_CHUNKS = {'time': 10, 'lat': 500, 'lon': 500}\n",
    "\n",
    "for name, path in source_files.items():\n",
    "    print(f\"Processing and rewriting {name}...\")\n",
    "    \n",
    "    ds = xr.open_zarr(path)\n",
    "\n",
    "    if name == 'density':\n",
    "        ds = ds.sel(Z=slice(-5, -100))\n",
    "        ds = ds.mean(dim='Z')\n",
    "\n",
    "    if 'cftime' in str(type(ds['time'].values[0])):\n",
    "        datetime_index = ds.indexes['time'].to_datetimeindex(unsafe=True)\n",
    "        ds = ds.assign_coords(time=datetime_index)\n",
    "\n",
    "    for var in ds.variables:\n",
    "        if 'chunks' in ds[var].encoding:\n",
    "            del ds[var].encoding['chunks']\n",
    "\n",
    "    ds = ds.astype(np.float32)\n",
    "        \n",
    "    ds = ds.transpose('time', 'lon', 'lat')\n",
    "    ds_rechunked = ds.chunk(IDEAL_CHUNKS)\n",
    "\n",
    "    new_path = DIR_OUTPUT / f\"{name}.zarr\"\n",
    "    \n",
    "    ds_rechunked.to_zarr(new_path, mode='w', consolidated=True)"
   ]
  }
 ],
 "metadata": {
  "kernelspec": {
   "display_name": "SpaceApps2025",
   "language": "python",
   "name": "python3"
  },
  "language_info": {
   "codemirror_mode": {
    "name": "ipython",
    "version": 3
   },
   "file_extension": ".py",
   "mimetype": "text/x-python",
   "name": "python",
   "nbconvert_exporter": "python",
   "pygments_lexer": "ipython3",
   "version": "3.13.7"
  }
 },
 "nbformat": 4,
 "nbformat_minor": 5
}
