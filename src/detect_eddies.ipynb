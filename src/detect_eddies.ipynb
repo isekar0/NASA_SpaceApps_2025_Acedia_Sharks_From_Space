{
 "cells": [
  {
   "cell_type": "code",
   "execution_count": 1,
   "id": "6aa232ea",
   "metadata": {},
   "outputs": [],
   "source": [
    "import os\n",
    "from pathlib import Path\n",
    "\n",
    "import xarray as xr\n",
    "import pandas as pd\n",
    "import numpy as np"
   ]
  },
  {
   "cell_type": "code",
   "execution_count": 2,
   "id": "bfd353e8",
   "metadata": {},
   "outputs": [
    {
     "name": "stdout",
     "output_type": "stream",
     "text": [
      "Datasets directory:\n",
      "/home/isekar/Documents/projects/NASA_SpaceApps_2025/Project/data/processed\n",
      "Found OSCAR currents data? True\n",
      "Found OSTIA SST data? True\n",
      "Found ECCO geometry data? True\n"
     ]
    }
   ],
   "source": [
    "DIR_DATA = Path(os.path.dirname(os.path.abspath(''))).resolve() / \"data\" / \"processed\"\n",
    "FILE_CURRENTS = \"OSCAR_L4_OC_FINAL_V2.0\"\n",
    "FILE_SST = \"OSTIA-UKMO-L4-GLOB-REP-v2.0\"\n",
    "FILE_GEOMETRY = \"ECCO_L4_GEOMETRY_05DEG_V4R4\"\n",
    "print(f\"Datasets directory:\\n{DIR_DATA}\")\n",
    "print(f\"Found OSCAR currents data? {Path(DIR_DATA / FILE_CURRENTS).is_dir()}\")\n",
    "print(f\"Found OSTIA SST data? {Path(DIR_DATA / FILE_SST).is_dir()}\")\n",
    "print(f\"Found ECCO geometry data? {Path(DIR_DATA / FILE_GEOMETRY).is_dir()}\")"
   ]
  },
  {
   "cell_type": "code",
   "execution_count": 3,
   "id": "80e1e32f",
   "metadata": {},
   "outputs": [],
   "source": [
    "currents = xr.open_zarr(DIR_DATA / FILE_CURRENTS / \"CURRENTS.zarr\")\n",
    "sst = xr.open_zarr(DIR_DATA / FILE_SST / \"SST.zarr\")\n",
    "geometry = xr.open_dataset(DIR_DATA / FILE_GEOMETRY / \"GRID_GEOMETRY_ECCO_V4r4_latlon_0p50deg.nc\")"
   ]
  },
  {
   "cell_type": "code",
   "execution_count": 4,
   "id": "d8834d5b",
   "metadata": {},
   "outputs": [
    {
     "name": "stdout",
     "output_type": "stream",
     "text": [
      "<xarray.Dataset> Size: 2GB\n",
      "Dimensions:  (time: 4626, lon: 261, lat: 201)\n",
      "Coordinates:\n",
      "  * lat      (lat) float64 2kB 15.0 15.25 15.5 15.75 ... 64.25 64.5 64.75 65.0\n",
      "  * lon      (lon) float64 2kB -180.0 -179.8 -179.5 ... -115.5 -115.2 -115.0\n",
      "  * time     (time) object 37kB 2001-01-01 00:00:00 ... 2013-08-31 00:00:00\n",
      "Data variables:\n",
      "    u        (time, lon, lat) float32 971MB dask.array<chunksize=(1, 261, 201), meta=np.ndarray>\n",
      "    v        (time, lon, lat) float32 971MB dask.array<chunksize=(1, 261, 201), meta=np.ndarray>\n",
      "Attributes: (12/33)\n",
      "    title:                      Ocean Surface Current Analyses Real-time (OSC...\n",
      "    summary:                    Global, daily, 0.25 degree geostrophic and to...\n",
      "    keywords:                   ocean currents,ocean circulation,surface curr...\n",
      "    Conventions:                CF-1.8 Standard Names v77, ACDD-1.3, netcdf 4...\n",
      "    id:                         OSCAR_L4_OC_FINAL_V2.0\n",
      "    history:                    OSCAR 0.25 degree daily version 2.0 replaces ...\n",
      "    ...                         ...\n",
      "    geospatial_lat_units:       degrees_north\n",
      "    geospatial_lat_resolution:  0.25 degree\n",
      "    geospatial_lon_min:         0.0\n",
      "    geospatial_lon_max:         359.75\n",
      "    geospatial_lon_units:       degrees_east\n",
      "    geospatial_lon_resolution:  0.25 degree\n"
     ]
    }
   ],
   "source": [
    "print(currents)"
   ]
  },
  {
   "cell_type": "code",
   "execution_count": 5,
   "id": "a555674f",
   "metadata": {},
   "outputs": [
    {
     "data": {
      "text/plain": [
       "'\\nW = s_n^2 + s_s^2 - w^2\\n\\ns_n = du/dx - dv/dy\\ns_s = dv/dx + du/dy\\nw = dv/dx - du/dx\\n\\nEddy <-- W < -0.2 * std_W\\ncyclonic <-- w > 0\\nanticyclonic <-- w < 0\\n'"
      ]
     },
     "execution_count": 5,
     "metadata": {},
     "output_type": "execute_result"
    }
   ],
   "source": [
    "'''\n",
    "W = s_n^2 + s_s^2 - w^2\n",
    "\n",
    "s_n = du/dx - dv/dy\n",
    "s_s = dv/dx + du/dy\n",
    "w = dv/dx - du/dx\n",
    "\n",
    "Eddy <-- W < -0.2 * std_W\n",
    "cyclonic <-- w > 0\n",
    "anticyclonic <-- w < 0\n",
    "'''"
   ]
  },
  {
   "cell_type": "code",
   "execution_count": 6,
   "id": "8382addc",
   "metadata": {},
   "outputs": [
    {
     "name": "stderr",
     "output_type": "stream",
     "text": [
      "/home/isekar/.conda/envs/SpaceApps2025/lib/python3.13/site-packages/zarr/api/asynchronous.py:244: ZarrUserWarning: Consolidated metadata is currently not part in the Zarr format 3 specification. It may not be supported by other zarr implementations and may change in the future.\n",
      "  warnings.warn(\n"
     ]
    },
    {
     "data": {
      "text/plain": [
       "<xarray.backends.zarr.ZarrStore at 0x7fd6ec223560>"
      ]
     },
     "execution_count": 6,
     "metadata": {},
     "output_type": "execute_result"
    }
   ],
   "source": [
    "R = 6371 * 1e3\n",
    "\n",
    "lat_rad = np.deg2rad(currents['lat'])\n",
    "lon_rad = np.deg2rad(currents['lon'])\n",
    "\n",
    "dx = R * np.cos(lat_rad) * np.deg2rad(currents.lon.diff(dim='lon').mean())\n",
    "dy = R * np.deg2rad(currents.lat.diff(dim='lat').mean())\n",
    "\n",
    "dx, dy = xr.align(dx.rename({'lat': 'lat'}), dy)\n",
    "\n",
    "dudx = currents[\"u\"].differentiate(coord='lon') / dx\n",
    "dudy = currents[\"u\"].differentiate(coord='lat') / dy\n",
    "dvdx = currents[\"v\"].differentiate(coord='lon') / dx\n",
    "dvdy = currents[\"v\"].differentiate(coord='lat') / dy\n",
    "\n",
    "s_n = dudx - dvdy\n",
    "s_s = dvdx + dudy\n",
    "w = dvdx - dudy\n",
    "\n",
    "W = s_n**2 + s_s**2 - w**2\n",
    "deviation_W = W.std(dim=[\"time\", \"lat\", \"lon\"], skipna=True)\n",
    "threshold_W = -0.2 * deviation_W\n",
    "\n",
    "currents[\"vorticity\"] = w\n",
    "currents[\"Okubo-Weiss\"] = W\n",
    "\n",
    "cyclonic_condition = (currents[\"Okubo-Weiss\"] < threshold_W) & (currents[\"vorticity\"] < 0)\n",
    "anticyclonic_condition = (currents[\"Okubo-Weiss\"] < threshold_W) & (currents[\"vorticity\"] > 0)\n",
    "\n",
    "currents[\"cyclonic\"] = xr.where(cyclonic_condition, 1, 0)\n",
    "currents[\"anticyclonic\"] = xr.where(anticyclonic_condition, 1, 0)\n",
    "\n",
    "currents[['anticyclonic', 'cyclonic']] = currents[['anticyclonic', 'cyclonic']].astype(np.bool)\n",
    "currents = currents.drop_vars(['vorticity', 'Okubo-Weiss'])\n",
    "\n",
    "currents.to_zarr(DIR_DATA / FILE_CURRENTS / \"CURRENTS_EDDIES.zarr\", mode='w')"
   ]
  }
 ],
 "metadata": {
  "kernelspec": {
   "display_name": "SpaceApps2025",
   "language": "python",
   "name": "python3"
  },
  "language_info": {
   "codemirror_mode": {
    "name": "ipython",
    "version": 3
   },
   "file_extension": ".py",
   "mimetype": "text/x-python",
   "name": "python",
   "nbconvert_exporter": "python",
   "pygments_lexer": "ipython3",
   "version": "3.13.7"
  }
 },
 "nbformat": 4,
 "nbformat_minor": 5
}
